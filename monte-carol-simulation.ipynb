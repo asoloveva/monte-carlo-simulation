{
 "cells": [
  {
   "cell_type": "markdown",
   "metadata": {},
   "source": [
    "Let's build a financial portfolio by investing in FCEL, SHOP companies and Dow 30, S&P 500 ETFs."
   ]
  },
  {
   "cell_type": "code",
   "execution_count": 2,
   "metadata": {},
   "outputs": [
    {
     "name": "stdout",
     "output_type": "stream",
     "text": [
      "Requirement already satisfied: pandas_datareader in /anaconda3/lib/python3.7/site-packages (0.8.1)\n",
      "Requirement already satisfied: pandas>=0.21 in /anaconda3/lib/python3.7/site-packages (from pandas_datareader) (0.24.2)\n",
      "Requirement already satisfied: lxml in /anaconda3/lib/python3.7/site-packages (from pandas_datareader) (4.3.4)\n",
      "Requirement already satisfied: requests>=2.3.0 in /anaconda3/lib/python3.7/site-packages (from pandas_datareader) (2.22.0)\n",
      "Requirement already satisfied: numpy>=1.12.0 in /anaconda3/lib/python3.7/site-packages (from pandas>=0.21->pandas_datareader) (1.16.4)\n",
      "Requirement already satisfied: pytz>=2011k in /anaconda3/lib/python3.7/site-packages (from pandas>=0.21->pandas_datareader) (2019.1)\n",
      "Requirement already satisfied: python-dateutil>=2.5.0 in /anaconda3/lib/python3.7/site-packages (from pandas>=0.21->pandas_datareader) (2.8.0)\n",
      "Requirement already satisfied: urllib3!=1.25.0,!=1.25.1,<1.26,>=1.21.1 in /anaconda3/lib/python3.7/site-packages (from requests>=2.3.0->pandas_datareader) (1.24.2)\n",
      "Requirement already satisfied: certifi>=2017.4.17 in /anaconda3/lib/python3.7/site-packages (from requests>=2.3.0->pandas_datareader) (2019.11.28)\n",
      "Requirement already satisfied: idna<2.9,>=2.5 in /anaconda3/lib/python3.7/site-packages (from requests>=2.3.0->pandas_datareader) (2.8)\n",
      "Requirement already satisfied: chardet<3.1.0,>=3.0.2 in /anaconda3/lib/python3.7/site-packages (from requests>=2.3.0->pandas_datareader) (3.0.4)\n",
      "Requirement already satisfied: six>=1.5 in /anaconda3/lib/python3.7/site-packages (from python-dateutil>=2.5.0->pandas>=0.21->pandas_datareader) (1.12.0)\n"
     ]
    }
   ],
   "source": [
    "!pip install pandas_datareader"
   ]
  },
  {
   "cell_type": "code",
   "execution_count": 3,
   "metadata": {},
   "outputs": [],
   "source": [
    "#Import relevant libraries\n",
    "import pandas as pd\n",
    "import numpy as np\n",
    "import pandas_datareader.data as web\n",
    "import matplotlib.pyplot as plt\n",
    "%matplotlib inline"
   ]
  },
  {
   "cell_type": "code",
   "execution_count": 24,
   "metadata": {},
   "outputs": [
    {
     "data": {
      "text/html": [
       "<div>\n",
       "<style scoped>\n",
       "    .dataframe tbody tr th:only-of-type {\n",
       "        vertical-align: middle;\n",
       "    }\n",
       "\n",
       "    .dataframe tbody tr th {\n",
       "        vertical-align: top;\n",
       "    }\n",
       "\n",
       "    .dataframe thead th {\n",
       "        text-align: right;\n",
       "    }\n",
       "</style>\n",
       "<table border=\"1\" class=\"dataframe\">\n",
       "  <thead>\n",
       "    <tr style=\"text-align: right;\">\n",
       "      <th>Symbols</th>\n",
       "      <th>FCEL</th>\n",
       "      <th>SHOP</th>\n",
       "      <th>^DJI</th>\n",
       "      <th>^GSPC</th>\n",
       "    </tr>\n",
       "    <tr>\n",
       "      <th>Date</th>\n",
       "      <th></th>\n",
       "      <th></th>\n",
       "      <th></th>\n",
       "      <th></th>\n",
       "    </tr>\n",
       "  </thead>\n",
       "  <tbody>\n",
       "    <tr>\n",
       "      <th>2019-01-02</th>\n",
       "      <td>NaN</td>\n",
       "      <td>NaN</td>\n",
       "      <td>NaN</td>\n",
       "      <td>NaN</td>\n",
       "    </tr>\n",
       "    <tr>\n",
       "      <th>2019-01-03</th>\n",
       "      <td>-0.035088</td>\n",
       "      <td>-0.056759</td>\n",
       "      <td>-0.028271</td>\n",
       "      <td>-0.024757</td>\n",
       "    </tr>\n",
       "    <tr>\n",
       "      <th>2019-01-04</th>\n",
       "      <td>0.018182</td>\n",
       "      <td>0.063718</td>\n",
       "      <td>0.032925</td>\n",
       "      <td>0.034336</td>\n",
       "    </tr>\n",
       "    <tr>\n",
       "      <th>2019-01-07</th>\n",
       "      <td>0.035714</td>\n",
       "      <td>0.045850</td>\n",
       "      <td>0.004190</td>\n",
       "      <td>0.007010</td>\n",
       "    </tr>\n",
       "    <tr>\n",
       "      <th>2019-01-08</th>\n",
       "      <td>0.017241</td>\n",
       "      <td>0.007272</td>\n",
       "      <td>0.010883</td>\n",
       "      <td>0.009695</td>\n",
       "    </tr>\n",
       "  </tbody>\n",
       "</table>\n",
       "</div>"
      ],
      "text/plain": [
       "Symbols         FCEL      SHOP      ^DJI     ^GSPC\n",
       "Date                                              \n",
       "2019-01-02       NaN       NaN       NaN       NaN\n",
       "2019-01-03 -0.035088 -0.056759 -0.028271 -0.024757\n",
       "2019-01-04  0.018182  0.063718  0.032925  0.034336\n",
       "2019-01-07  0.035714  0.045850  0.004190  0.007010\n",
       "2019-01-08  0.017241  0.007272  0.010883  0.009695"
      ]
     },
     "execution_count": 24,
     "metadata": {},
     "output_type": "execute_result"
    }
   ],
   "source": [
    "#Specify the stocks. I take top trending stocks from yahoo finance and couple of ETFs to devirsify \n",
    "#(Specific stocks chosen just to demonstrate an example)\n",
    "\n",
    "stock = ['FCEL', 'SHOP','^DJI','^GSPC']\n",
    "data = web.DataReader(stock,data_source=\"yahoo\",start='01/01/2019',end='12/01/2019')['Adj Close']\n",
    "\n",
    "#Convert to percentage format\n",
    "stock_return = data.pct_change()\n",
    "stock_return.round(4)*100\n",
    "stock_return.head()"
   ]
  },
  {
   "cell_type": "code",
   "execution_count": 25,
   "metadata": {},
   "outputs": [
    {
     "name": "stdout",
     "output_type": "stream",
     "text": [
      "Symbols\n",
      "FCEL    -0.000559\n",
      "SHOP     0.004182\n",
      "^DJI     0.000786\n",
      "^GSPC    0.000966\n",
      "dtype: float64\n",
      "Symbols      FCEL      SHOP      ^DJI     ^GSPC\n",
      "Symbols                                        \n",
      "FCEL     0.024780  0.000049  0.000076  0.000075\n",
      "SHOP     0.000049  0.000759  0.000081  0.000100\n",
      "^DJI     0.000076  0.000081  0.000065  0.000063\n",
      "^GSPC    0.000075  0.000100  0.000063  0.000066\n"
     ]
    }
   ],
   "source": [
    "# Mean returns and covariances\n",
    "mean_returns = stock_return.mean()\n",
    "cov_matrix = stock_return.cov()\n",
    "print (mean_returns)\n",
    "print (cov_matrix)"
   ]
  },
  {
   "cell_type": "code",
   "execution_count": 28,
   "metadata": {},
   "outputs": [
    {
     "name": "stdout",
     "output_type": "stream",
     "text": [
      "     Return     Stdev    Sharpe      FCEL      SHOP      ^DJI     ^GSPC\n",
      "0  0.001751  0.011739  0.149129  0.022714  0.265220  0.188790  0.523275\n",
      "1  0.000446  0.085081  0.005247  0.538320  0.102582  0.159679  0.199419\n",
      "2  0.000811  0.062260  0.013023  0.391561  0.159224  0.390163  0.059053\n",
      "3  0.000678  0.034868  0.019432  0.215347  0.031657  0.344711  0.408285\n",
      "4  0.000857  0.048753  0.017577  0.304711  0.127871  0.309965  0.257453\n",
      "        Return     Stdev    Sharpe      FCEL      SHOP      ^DJI     ^GSPC\n",
      "9995  0.002397  0.018714  0.128083  0.066033  0.492309  0.288172  0.153486\n",
      "9996  0.001840  0.044280  0.041563  0.268046  0.405456  0.117076  0.209422\n",
      "9997  0.000939  0.066925  0.014030  0.421077  0.194586  0.060733  0.323604\n",
      "9998  0.000721  0.055311  0.013028  0.347296  0.107718  0.346348  0.198638\n",
      "9999  0.000248  0.067439  0.003671  0.425649  0.005253  0.479231  0.089868\n"
     ]
    }
   ],
   "source": [
    "#Monte Carlo Simulation\n",
    "\n",
    "NumberOfIterations = 10000\n",
    "simulation_results = np.zeros((4+len(stock)-1,NumberOfIterations))\n",
    "\n",
    "for i in range(NumberOfIterations):\n",
    "    \n",
    "        #Random weights\n",
    "        weights = np.array(np.random.random(4))\n",
    "        weights /= np.sum(weights)\n",
    "        \n",
    "        #Return and STDV\n",
    "        portfolio_return = np.sum(mean_returns * weights)\n",
    "        portfolio_std_dev = np.sqrt(np.dot(weights.T,np.dot(cov_matrix, weights)))\n",
    "\n",
    "        simulation_results[0,i] = portfolio_return\n",
    "        simulation_results[1,i] = portfolio_std_dev\n",
    "        \n",
    "        #Calculate Sharpe ratio and store it in the array\n",
    "        #Sharpe ratio measures the performance of an investment compared to a risk-free asset, after adjusting for its risk. It is defined as the difference between the returns of the investment and the risk-free return, divided by the standard deviation of the investment. \n",
    "        #Larger the ratio the better\n",
    "        simulation_results[2,i] = simulation_results[0,i] / simulation_results[1,i]\n",
    "        \n",
    "        \n",
    "        #Save the weights\n",
    "        for j in range(len(weights)):\n",
    "                simulation_results[j+3,i] = weights[j]\n",
    "                \n",
    "#Create a dataframe\n",
    "simulation_frame = pd.DataFrame(simulation_results.T,columns=['Return','Stdev','Sharpe',stock[0],stock[1],stock[2],\n",
    "                                                              stock[3]])\n",
    "\n",
    "print (simulation_frame.head ())\n",
    "print (simulation_frame.tail ())"
   ]
  },
  {
   "cell_type": "code",
   "execution_count": 29,
   "metadata": {},
   "outputs": [
    {
     "data": {
      "text/plain": [
       "Return    0.002123\n",
       "Stdev     0.013159\n",
       "Sharpe    0.161298\n",
       "FCEL      0.000996\n",
       "SHOP      0.367906\n",
       "^DJI      0.141811\n",
       "^GSPC     0.489286\n",
       "Name: 7987, dtype: float64"
      ]
     },
     "execution_count": 29,
     "metadata": {},
     "output_type": "execute_result"
    }
   ],
   "source": [
    "#Find weights distributions which produce highest Sharpe Ratio\n",
    "\n",
    "max_sharpe = simulation_frame.iloc[simulation_frame['Sharpe'].idxmax()]\n",
    "max_sharpe"
   ]
  },
  {
   "cell_type": "markdown",
   "metadata": {},
   "source": [
    "Based on the resutls, our investment would be primarily in S&P 500, Shopify and Dow 30"
   ]
  }
 ],
 "metadata": {
  "kernelspec": {
   "display_name": "Python 3",
   "language": "python",
   "name": "python3"
  },
  "language_info": {
   "codemirror_mode": {
    "name": "ipython",
    "version": 3
   },
   "file_extension": ".py",
   "mimetype": "text/x-python",
   "name": "python",
   "nbconvert_exporter": "python",
   "pygments_lexer": "ipython3",
   "version": "3.7.3"
  }
 },
 "nbformat": 4,
 "nbformat_minor": 2
}
